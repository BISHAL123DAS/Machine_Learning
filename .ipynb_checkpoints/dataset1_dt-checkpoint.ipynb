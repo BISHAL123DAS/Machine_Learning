{
 "cells": [
  {
   "cell_type": "markdown",
   "id": "1bb7f8af",
   "metadata": {},
   "source": [
    "# work date:26/09/2023"
   ]
  },
  {
   "cell_type": "code",
   "execution_count": 8,
   "id": "bd388bd4",
   "metadata": {},
   "outputs": [],
   "source": [
    "import pandas as pd\n",
    "import matplotlib.pyplot as plt\n",
    "import seaborn as sns\n",
    "import warnings\n",
    "from sklearn.metrics import confusion_matrix,classification_report\n",
    "from sklearn.model_selection import KFold, StratifiedKFold, cross_val_score\n",
    "from sklearn import linear_model, tree, ensemble\n",
    "from sklearn.model_selection import RandomizedSearchCV\n",
    "from sklearn.tree import DecisionTreeClassifier\n",
    "from sklearn.model_selection import train_test_split"
   ]
  },
  {
   "cell_type": "code",
   "execution_count": null,
   "id": "b3ee5d91",
   "metadata": {},
   "outputs": [],
   "source": []
  },
  {
   "cell_type": "code",
   "execution_count": 31,
   "id": "d4757641",
   "metadata": {},
   "outputs": [
    {
     "data": {
      "text/html": [
       "<div>\n",
       "<style scoped>\n",
       "    .dataframe tbody tr th:only-of-type {\n",
       "        vertical-align: middle;\n",
       "    }\n",
       "\n",
       "    .dataframe tbody tr th {\n",
       "        vertical-align: top;\n",
       "    }\n",
       "\n",
       "    .dataframe thead th {\n",
       "        text-align: right;\n",
       "    }\n",
       "</style>\n",
       "<table border=\"1\" class=\"dataframe\">\n",
       "  <thead>\n",
       "    <tr style=\"text-align: right;\">\n",
       "      <th></th>\n",
       "      <th>age</th>\n",
       "      <th>sex</th>\n",
       "      <th>cp</th>\n",
       "      <th>trestbps</th>\n",
       "      <th>chol</th>\n",
       "      <th>fbs</th>\n",
       "      <th>restecg</th>\n",
       "      <th>thalach</th>\n",
       "      <th>exang</th>\n",
       "      <th>oldpeak</th>\n",
       "      <th>slope</th>\n",
       "      <th>target</th>\n",
       "    </tr>\n",
       "  </thead>\n",
       "  <tbody>\n",
       "    <tr>\n",
       "      <th>0</th>\n",
       "      <td>40</td>\n",
       "      <td>1</td>\n",
       "      <td>2</td>\n",
       "      <td>140</td>\n",
       "      <td>289</td>\n",
       "      <td>0</td>\n",
       "      <td>0</td>\n",
       "      <td>172</td>\n",
       "      <td>0.0</td>\n",
       "      <td>0.0</td>\n",
       "      <td>1</td>\n",
       "      <td>0</td>\n",
       "    </tr>\n",
       "    <tr>\n",
       "      <th>1</th>\n",
       "      <td>49</td>\n",
       "      <td>0</td>\n",
       "      <td>3</td>\n",
       "      <td>160</td>\n",
       "      <td>180</td>\n",
       "      <td>0</td>\n",
       "      <td>0</td>\n",
       "      <td>156</td>\n",
       "      <td>0.0</td>\n",
       "      <td>1.0</td>\n",
       "      <td>2</td>\n",
       "      <td>1</td>\n",
       "    </tr>\n",
       "    <tr>\n",
       "      <th>2</th>\n",
       "      <td>37</td>\n",
       "      <td>1</td>\n",
       "      <td>2</td>\n",
       "      <td>130</td>\n",
       "      <td>283</td>\n",
       "      <td>0</td>\n",
       "      <td>1</td>\n",
       "      <td>98</td>\n",
       "      <td>0.0</td>\n",
       "      <td>0.0</td>\n",
       "      <td>1</td>\n",
       "      <td>0</td>\n",
       "    </tr>\n",
       "    <tr>\n",
       "      <th>3</th>\n",
       "      <td>48</td>\n",
       "      <td>0</td>\n",
       "      <td>4</td>\n",
       "      <td>138</td>\n",
       "      <td>214</td>\n",
       "      <td>0</td>\n",
       "      <td>0</td>\n",
       "      <td>108</td>\n",
       "      <td>1.0</td>\n",
       "      <td>1.5</td>\n",
       "      <td>2</td>\n",
       "      <td>1</td>\n",
       "    </tr>\n",
       "    <tr>\n",
       "      <th>4</th>\n",
       "      <td>54</td>\n",
       "      <td>1</td>\n",
       "      <td>3</td>\n",
       "      <td>150</td>\n",
       "      <td>195</td>\n",
       "      <td>0</td>\n",
       "      <td>0</td>\n",
       "      <td>122</td>\n",
       "      <td>0.0</td>\n",
       "      <td>0.0</td>\n",
       "      <td>1</td>\n",
       "      <td>0</td>\n",
       "    </tr>\n",
       "  </tbody>\n",
       "</table>\n",
       "</div>"
      ],
      "text/plain": [
       "   age  sex  cp  trestbps  chol  fbs  restecg  thalach  exang  oldpeak  slope  \\\n",
       "0   40    1   2       140   289    0        0      172    0.0      0.0      1   \n",
       "1   49    0   3       160   180    0        0      156    0.0      1.0      2   \n",
       "2   37    1   2       130   283    0        1       98    0.0      0.0      1   \n",
       "3   48    0   4       138   214    0        0      108    1.0      1.5      2   \n",
       "4   54    1   3       150   195    0        0      122    0.0      0.0      1   \n",
       "\n",
       "   target  \n",
       "0       0  \n",
       "1       1  \n",
       "2       0  \n",
       "3       1  \n",
       "4       0  "
      ]
     },
     "execution_count": 31,
     "metadata": {},
     "output_type": "execute_result"
    }
   ],
   "source": [
    "p = './heart_Disease_prediction_new_final.csv'\n",
    "dsa1=pd.read_csv(p)\n",
    "dsa1.head()"
   ]
  },
  {
   "cell_type": "code",
   "execution_count": null,
   "id": "71898faa",
   "metadata": {},
   "outputs": [],
   "source": [
    "dsa1.shap"
   ]
  },
  {
   "cell_type": "code",
   "execution_count": 32,
   "id": "ca02e4ad",
   "metadata": {},
   "outputs": [],
   "source": [
    " def d(dataframe):\n",
    "    X=dataframe.values[:,0:11]\n",
    "    y=dataframe.values[:,-1]\n",
    "    X_train, X_test,y_train, y_test=train_test_split(X,y,test_size=0.25,random_state=None)\n",
    "    \n",
    "    tree_model = DecisionTreeClassifier(max_depth=5,criterion='entropy')\n",
    "    cv_scores = cross_val_score(tree_model, X, y, cv=10, scoring='accuracy')\n",
    "    m=tree_model.fit(X, y)\n",
    "    prediction=m.predict(X_test)\n",
    "    cm= confusion_matrix(y_test,prediction)\n",
    "    sns.heatmap(cm, annot=True,cmap='winter',linewidths=0.2, linecolor='black',annot_kws={\"size\": 20})\n",
    "    print(classification_report(y_test, prediction))\n",
    "    TP=cm[0][0]\n",
    "    TN=cm[1][1]\n",
    "    FN=cm[1][0]\n",
    "    FP=cm[0][1]\n",
    "    print('Testing Accuracy for Decision Tree:',(TP+TN)/(TP+TN+FN+FP))\n",
    "    print('Testing Sensitivity for Decision Tree:',(TP/(TP+FN)))\n",
    "    print('Testing Specificity for Decision Tree:',(TN/(TN+FP)))\n",
    "    print('Testing Precision for Decision Tree:',(TP/(TP+FP)))"
   ]
  },
  {
   "cell_type": "code",
   "execution_count": 33,
   "id": "75a475e6",
   "metadata": {},
   "outputs": [
    {
     "name": "stdout",
     "output_type": "stream",
     "text": [
      "              precision    recall  f1-score   support\n",
      "\n",
      "         0.0       0.86      0.70      0.78       392\n",
      "         1.0       0.76      0.89      0.82       417\n",
      "\n",
      "    accuracy                           0.80       809\n",
      "   macro avg       0.81      0.80      0.80       809\n",
      "weighted avg       0.81      0.80      0.80       809\n",
      "\n",
      "Testing Accuracy for Decision Tree: 0.8022249690976514\n",
      "Testing Sensitivity for Decision Tree: 0.8625\n",
      "Testing Specificity for Decision Tree: 0.7627811860940695\n",
      "Testing Precision for Decision Tree: 0.7040816326530612\n"
     ]
    },
    {
     "data": {
      "image/png": "[encoded data removed]",
      "text/plain": [
       "<Figure size 640x480 with 2 Axes>"
      ]
     },
     "metadata": {},
     "output_type": "display_data"
    }
   ],
   "source": [
    "d(dsa1)"
   ]
  },
  {
   "cell_type": "code",
   "execution_count": null,
   "id": "1a426f0a",
   "metadata": {},
   "outputs": [],
   "source": []
  }
 ],
 "metadata": {
  "kernelspec": {
   "display_name": "Python 3 (ipykernel)",
   "language": "python",
   "name": "python3"
  },
  "language_info": {
   "codemirror_mode": {
    "name": "ipython",
    "version": 3
   },
   "file_extension": ".py",
   "mimetype": "text/x-python",
   "name": "python",
   "nbconvert_exporter": "python",
   "pygments_lexer": "ipython3",
   "version": "3.10.6"
  }
 },
 "nbformat": 4,
 "nbformat_minor": 5
}
